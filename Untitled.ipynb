{
 "cells": [
  {
   "cell_type": "code",
   "execution_count": null,
   "metadata": {},
   "outputs": [],
   "source": [
    "Project Specification : \n",
    "    \n",
    "     - Write an application which will be used to benchmark five different sorting algorithms\n",
    "     - A report which introduces the choosen algorithms\n",
    "     - Discuss the results of the benchmarking process\n",
    "        \n",
    "The Required Criteria for the choosen 5 sorting Algorithms : \n",
    "    \n",
    "    -  A Simple comparison- based sort\n",
    "    -  An efficient comparison- based sort\n",
    "    -  An non- comparision sort\n",
    "    -  Any other sorting algorithm of choice x 2\n",
    "    "
   ]
  }
 ],
 "metadata": {
  "kernelspec": {
   "display_name": "Python 3",
   "language": "python",
   "name": "python3"
  },
  "language_info": {
   "codemirror_mode": {
    "name": "ipython",
    "version": 3
   },
   "file_extension": ".py",
   "mimetype": "text/x-python",
   "name": "python",
   "nbconvert_exporter": "python",
   "pygments_lexer": "ipython3",
   "version": "3.8.5"
  }
 },
 "nbformat": 4,
 "nbformat_minor": 4
}
