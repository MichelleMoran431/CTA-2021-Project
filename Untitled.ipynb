{
 "cells": [
  {
   "cell_type": "code",
   "execution_count": null,
   "metadata": {},
   "outputs": [],
   "source": [
    "Project Specification : \n",
    "    \n",
    "     - Write an application which will be used to benchmark five different sorting algorithms\n",
    "     - A report which introduces the choosen algorithms\n",
    "     - Discuss the results of the benchmarking process\n",
    "        \n",
    "The Required Criteria for the choosen 5 sorting Algorithms : \n",
    "    \n",
    "    -  A Simple comparison- based sort\n",
    "    -  An efficient comparison- based sort\n",
    "    -  An non- comparision sort\n",
    "    -  Any other sorting algorithm of choice x 2\n",
    "    "
   ]
  },
  {
   "cell_type": "markdown",
   "metadata": {},
   "source": [
    "## 1.1 Introduction \n",
    "\n",
    "\n",
    "  ### 1.1.1 Concept of Sorting and Sorting Algorithms\n",
    "  \n",
    "Sorting can be defined as arranging data or a collection of items in a particular format or way. This particular format can be pre-defined using a set of ordering rules. The biggest advantage to data sorting is that it leads to a high level of  optimization in data searching. Simply put , if the data is sorted ,it would make it easier to search. An example of real-life sorting can be seen in the form of a Dictionary which is in alphabetical order , making searching for particular work easier. \n",
    "\n",
    "   #### 1.1.2 Sorting  Terminology : \n",
    "\n",
    "##### In-place Sorting and Not-in-place Sorting \n",
    "\n",
    "The difference between the two are the requirement/or not of extra space to perform the comparison and temporary storage of data elements.For in -place sorting , these algorithms do not require extra space as the sorting occurs in-place within the list. Bubble sort is an example of this. So Not-in place sorting does require space which uses equal or more space to the elements been sorted. Merge sort is an example of this .\n",
    "\n",
    "##### Stable and Not Stable Sorting \n",
    "\n",
    "The difference between these two types of sorting lies in if the order of sequence of similar contents change or not after sorting. It is deemed stable sorting if there is no change , and not stable if the content is changed. Stability is an important factors in sorting algorithms when the sequence of original elements is needed to be maintained. An unstable algorithm can be modified to be stable by changing the key comparison operations so that in the comparsion of 2 elements their position is considered\n",
    "\n",
    "##### Adaptive and Non- Adaptive Sorting \n",
    " \n",
    "A sorting algorithm can take advantage of list that has already sorted some of its elements by not trying to sort them again this makes the algorithm adaptive , however it can also be deemed Non- Adaptive if it tries to force reordering of the sorted elements just to confirm the sortedness. \n",
    "\n",
    "##### Internal and External Sortings \n",
    "\n",
    "External sorting refers to the data that cannot be place in memory at the time of sorting and requires external storage like USB keys , used for large amounts of data. Internal sorting is when all data is place in memory.\n",
    "\n",
    "#### 1.1.3 Concepts of Sorting Algorithms and their relevance : \n",
    "\n",
    "##### Complexity \n",
    "\n",
    "\n",
    "##### Efficiency/Performance\n",
    "##### Comparator functions\n",
    "##### Comparison based and non comparison based sorts\n",
    "\n",
    "    - "
   ]
  }
 ],
 "metadata": {
  "kernelspec": {
   "display_name": "Python 3",
   "language": "python",
   "name": "python3"
  },
  "language_info": {
   "codemirror_mode": {
    "name": "ipython",
    "version": 3
   },
   "file_extension": ".py",
   "mimetype": "text/x-python",
   "name": "python",
   "nbconvert_exporter": "python",
   "pygments_lexer": "ipython3",
   "version": "3.8.5"
  }
 },
 "nbformat": 4,
 "nbformat_minor": 4
}
